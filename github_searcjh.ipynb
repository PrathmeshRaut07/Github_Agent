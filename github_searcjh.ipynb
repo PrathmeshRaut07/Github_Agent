{
 "cells": [
  {
   "cell_type": "code",
   "execution_count": 1,
   "metadata": {},
   "outputs": [
    {
     "name": "stderr",
     "output_type": "stream",
     "text": [
      "c:\\Project\\GenAI\\CrewAI\\crew\\Lib\\site-packages\\tqdm\\auto.py:21: TqdmWarning: IProgress not found. Please update jupyter and ipywidgets. See https://ipywidgets.readthedocs.io/en/stable/user_install.html\n",
      "  from .autonotebook import tqdm as notebook_tqdm\n",
      "c:\\Project\\GenAI\\CrewAI\\crew\\Lib\\site-packages\\github\\MainClass.py:145: DeprecationWarning: Argument login_or_token is deprecated, please use auth=github.Auth.Token(...) instead\n",
      "  warnings.warn(\n",
      "Inserting batches in chromadb: 100%|██████████| 1/1 [00:01<00:00,  1.66s/it]\n"
     ]
    }
   ],
   "source": [
    "from crewai_tools import GithubSearchTool\n",
    "from dotenv import load_dotenv\n",
    "import os\n",
    "\n",
    "# Load environment variables from .env file\n",
    "load_dotenv()\n",
    "\n",
    "# Retrieve GitHub access token from environment variables\n",
    "gh_token = os.getenv(\"GITHUB_ACCESS_TOKEN\")\n",
    "\n",
    "# Initialize the GithubSearchTool with the required configuration\n",
    "tool = GithubSearchTool(\n",
    "    gh_token=gh_token,  # Pass the GitHub token here\n",
    "    github_repo='paritosh-Shukla24/Multimodal-RAG-bot-',\n",
    "    content_types=['code', 'issue'],  # Specify the content types you want to search\n",
    "    config=dict(\n",
    "        llm=dict(\n",
    "            provider=\"google\",  # or google, openai, anthropic, llama2, ...\n",
    "            config=dict(\n",
    "                model=\"gemini-2.0-flash-exp\",\n",
    "                # temperature=0.5,\n",
    "                # top_p=1,\n",
    "                # stream=true,\n",
    "            ),\n",
    "        ),\n",
    "        embedder=dict(\n",
    "            provider=\"google\",  # or openai, ollama, ...\n",
    "            config=dict(\n",
    "                model=\"models/embedding-001\",\n",
    "                task_type=\"retrieval_document\",\n",
    "                # title=\"Embeddings\",\n",
    "            ),\n",
    "        ),\n",
    "    )\n",
    ")"
   ]
  },
  {
   "cell_type": "code",
   "execution_count": 3,
   "metadata": {},
   "outputs": [
    {
     "name": "stdout",
     "output_type": "stream",
     "text": [
      "Using Tool: Search a github repo's content\n"
     ]
    },
    {
     "name": "stderr",
     "output_type": "stream",
     "text": [
      "2025-01-09 01:37:49,258 - 26276 - local_persistent_hnsw.py-local_persistent_hnsw:423 - WARNING: Number of requested results 3 is greater than number of elements in index 1, updating n_results = 1\n"
     ]
    },
    {
     "name": "stdout",
     "output_type": "stream",
     "text": [
      "Search Results:\n",
      "Relevant Content:\n",
      "repo:paritosh-Shukla24/Multimodal-RAG-bot- type:code,issue\n"
     ]
    }
   ],
   "source": [
    "query = \"RAG code implementation\"  # Example search query\n",
    "\n",
    "\n",
    "# Perform the search\n",
    "results = tool.run(search_query=query)\n",
    "\n",
    "# Print the results\n",
    "print(\"Search Results:\")\n",
    "print(results)"
   ]
  },
  {
   "cell_type": "code",
   "execution_count": 5,
   "metadata": {},
   "outputs": [
    {
     "name": "stdout",
     "output_type": "stream",
     "text": [
      "\n",
      "Top 3 repositories for query 'Knowledge Graphs language:Python':\n",
      "\n",
      "1. liuhuanyong/QASystemOnMedicalKG\n",
      "   Description:  A tutorial and implement of disease centered Medical knowledge graph and qa system based on it。知识图谱构建，自动问答，基于kg的自动问答。以疾病为中心的一定规模医药领域知识图谱，并以该知识图谱完成自动问答与分析服务。\n",
      "   Stars: 6496\n",
      "   Forks: 2181\n",
      "   Open Issues: 69\n",
      "   Last Updated: 2025-01-08T10:46:23Z\n",
      "   Owner: liuhuanyong\n",
      "   URL: https://github.com/liuhuanyong/QASystemOnMedicalKG\n",
      "---------------------------------------------------\n",
      "2. zjunlp/DeepKE\n",
      "   Description: [EMNLP 2022] An Open Toolkit for Knowledge Graph Extraction and Construction\n",
      "   Stars: 3671\n",
      "   Forks: 701\n",
      "   Open Issues: 5\n",
      "   Last Updated: 2025-01-08T11:22:06Z\n",
      "   Owner: zjunlp\n",
      "   URL: https://github.com/zjunlp/DeepKE\n",
      "---------------------------------------------------\n",
      "3. yoheinakajima/instagraph\n",
      "   Description: Converts text input or URL into knowledge graph and displays\n",
      "   Stars: 3490\n",
      "   Forks: 290\n",
      "   Open Issues: 23\n",
      "   Last Updated: 2025-01-08T17:26:21Z\n",
      "   Owner: yoheinakajima\n",
      "   URL: https://github.com/yoheinakajima/instagraph\n",
      "---------------------------------------------------\n"
     ]
    }
   ],
   "source": [
    "import requests\n",
    "\n",
    "# GitHub API URL for searching repositories\n",
    "GITHUB_API_URL = \"https://api.github.com/search/repositories\"\n",
    "\n",
    "# Function to search GitHub repositories\n",
    "def search_github_repositories(query, language=None, max_results=5):\n",
    "    # Set up the search query with optional language filter\n",
    "    if language:\n",
    "        query = f\"{query} language:{language}\"\n",
    "\n",
    "    # Parameters for the API request\n",
    "    params = {\n",
    "        \"q\": query,\n",
    "        \"sort\": \"stars\",  # Sort by stars (you can change this to 'forks', 'updated', etc.)\n",
    "        \"order\": \"desc\",  # Order by descending (most stars first)\n",
    "        \"per_page\": max_results  # Limit the number of results\n",
    "    }\n",
    "\n",
    "    # Make the API request to GitHub\n",
    "    response = requests.get(GITHUB_API_URL, params=params)\n",
    "\n",
    "    # Check if the request was successful\n",
    "    if response.status_code == 200:\n",
    "        data = response.json()\n",
    "        repositories = data['items']\n",
    "\n",
    "        # Display the search results\n",
    "        print(f\"\\nTop {len(repositories)} repositories for query '{query}':\\n\")\n",
    "        for i, repo in enumerate(repositories, 1):\n",
    "            print(f\"{i}. {repo['full_name']}\")\n",
    "            print(f\"   Description: {repo['description']}\")\n",
    "            print(f\"   Stars: {repo['stargazers_count']}\")\n",
    "            print(f\"   Forks: {repo['forks_count']}\")\n",
    "            print(f\"   Open Issues: {repo['open_issues_count']}\")\n",
    "            print(f\"   Last Updated: {repo['updated_at']}\")\n",
    "            print(f\"   Owner: {repo['owner']['login']}\")\n",
    "            print(f\"   URL: {repo['html_url']}\")\n",
    "            print(\"---------------------------------------------------\")\n",
    "    else:\n",
    "        # If the API request failed, print the error message\n",
    "        print(f\"Error: Unable to fetch data (status code: {response.status_code})\")\n",
    "\n",
    "# Main program\n",
    "if __name__ == \"__main__\":\n",
    "    # Ask the user for a search query\n",
    "    query = input(\"Enter your GitHub search query: \")\n",
    "\n",
    "    # Ask the user for an optional programming language filter\n",
    "    language = input(\"Filter by programming language (optional, press Enter to skip): \")\n",
    "\n",
    "    # Ask the user for the number of results to display\n",
    "    max_results = input(\"How many results do you want to see? (default is 5): \")\n",
    "    max_results = int(max_results) if max_results else 5\n",
    "\n",
    "    # Perform the search\n",
    "    search_github_repositories(query, language, max_results)"
   ]
  },
  {
   "cell_type": "code",
   "execution_count": null,
   "metadata": {},
   "outputs": [],
   "source": [
    "\n"
   ]
  }
 ],
 "metadata": {
  "kernelspec": {
   "display_name": "crew",
   "language": "python",
   "name": "python3"
  },
  "language_info": {
   "codemirror_mode": {
    "name": "ipython",
    "version": 3
   },
   "file_extension": ".py",
   "mimetype": "text/x-python",
   "name": "python",
   "nbconvert_exporter": "python",
   "pygments_lexer": "ipython3",
   "version": "3.11.7"
  }
 },
 "nbformat": 4,
 "nbformat_minor": 2
}
